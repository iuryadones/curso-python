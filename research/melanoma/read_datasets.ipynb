{
 "cells": [
  {
   "cell_type": "code",
   "execution_count": 1,
   "metadata": {},
   "outputs": [],
   "source": [
    "import os"
   ]
  },
  {
   "cell_type": "code",
   "execution_count": 2,
   "metadata": {},
   "outputs": [],
   "source": [
    "from skimage import io\n",
    "from skimage import filters\n",
    "from skimage import morphology\n",
    "from skimage.filters import sobel\n",
    "from skimage.color import rgb2gray\n",
    "from skimage.feature import CENSURE\n",
    "from skimage.feature import ORB\n",
    "from skimage.feature import match_descriptors\n",
    "import matplotlib.pyplot as plt"
   ]
  },
  {
   "cell_type": "code",
   "execution_count": 3,
   "metadata": {},
   "outputs": [],
   "source": [
    "%matplotlib inline"
   ]
  },
  {
   "cell_type": "code",
   "execution_count": 4,
   "metadata": {},
   "outputs": [],
   "source": [
    "path_dataset = 'mednode_dataset/'"
   ]
  },
  {
   "cell_type": "code",
   "execution_count": 5,
   "metadata": {},
   "outputs": [],
   "source": [
    "etiquetas = os.listdir(path_dataset)"
   ]
  },
  {
   "cell_type": "code",
   "execution_count": 6,
   "metadata": {},
   "outputs": [
    {
     "data": {
      "text/plain": [
       "['melanoma', 'naevus']"
      ]
     },
     "execution_count": 6,
     "metadata": {},
     "output_type": "execute_result"
    }
   ],
   "source": [
    "etiquetas"
   ]
  },
  {
   "cell_type": "code",
   "execution_count": 7,
   "metadata": {},
   "outputs": [],
   "source": [
    "etiqueta_0 = os.path.join(path_dataset, etiquetas[0])"
   ]
  },
  {
   "cell_type": "code",
   "execution_count": 8,
   "metadata": {},
   "outputs": [],
   "source": [
    "etiqueta_1 = os.path.join(path_dataset, etiquetas[1])"
   ]
  },
  {
   "cell_type": "code",
   "execution_count": 9,
   "metadata": {},
   "outputs": [],
   "source": [
    "imgs_etiqueta_0 = os.listdir(etiqueta_0)"
   ]
  },
  {
   "cell_type": "code",
   "execution_count": 10,
   "metadata": {},
   "outputs": [],
   "source": [
    "imgs_etiqueta_1 = os.listdir(etiqueta_1)"
   ]
  },
  {
   "cell_type": "code",
   "execution_count": 11,
   "metadata": {},
   "outputs": [],
   "source": [
    "def show_imgs(etiqueta, imgs_etiquetas):\n",
    "    for img in imgs_etiquetas:\n",
    "        path_img = os.path.join(etiqueta, img)\n",
    "        print(f'{path_img}')\n",
    "        image = io.imread(path_img)\n",
    "        plt.title(f'{img}')\n",
    "        plt.imshow(image)\n",
    "        plt.tight_layout()\n",
    "        plt.axis('off')\n",
    "        plt.show()"
   ]
  },
  {
   "cell_type": "code",
   "execution_count": 12,
   "metadata": {},
   "outputs": [],
   "source": [
    "# show_imgs(etiqueta_0, imgs_etiqueta_0)"
   ]
  },
  {
   "cell_type": "code",
   "execution_count": 13,
   "metadata": {},
   "outputs": [],
   "source": [
    "# show_imgs(etiqueta_1, imgs_etiqueta_1)"
   ]
  },
  {
   "cell_type": "code",
   "execution_count": null,
   "metadata": {},
   "outputs": [],
   "source": []
  },
  {
   "cell_type": "code",
   "execution_count": 14,
   "metadata": {},
   "outputs": [],
   "source": [
    "def show_imgs_grays(etiqueta, imgs_etiquetas):\n",
    "    for img in imgs_etiquetas:\n",
    "        path_img = os.path.join(etiqueta, img)\n",
    "        print(f'{path_img}')\n",
    "        image = io.imread(path_img)\n",
    "        image = rgb2gray(image)\n",
    "        plt.title(f'{img}')\n",
    "        plt.imshow(image, cmap='gray')\n",
    "        plt.tight_layout()\n",
    "        plt.axis('off')\n",
    "        plt.show()"
   ]
  },
  {
   "cell_type": "code",
   "execution_count": 15,
   "metadata": {},
   "outputs": [],
   "source": [
    "# show_imgs_grays(etiqueta_0, imgs_etiqueta_0)"
   ]
  },
  {
   "cell_type": "code",
   "execution_count": 16,
   "metadata": {},
   "outputs": [],
   "source": [
    "def show_imgs_grays_sobel(etiqueta, imgs_etiquetas):\n",
    "    for img in imgs_etiquetas:\n",
    "        path_img = os.path.join(etiqueta, img)\n",
    "        print(f'{path_img}')\n",
    "        image = io.imread(path_img)\n",
    "        image = rgb2gray(image)\n",
    "        image = sobel(image)\n",
    "        plt.title(f'{img}')\n",
    "        plt.imshow(image, cmap='gray')\n",
    "        plt.tight_layout()\n",
    "        plt.axis('off')\n",
    "        plt.show()"
   ]
  },
  {
   "cell_type": "code",
   "execution_count": 17,
   "metadata": {},
   "outputs": [],
   "source": [
    "# show_imgs_grays_sobel(etiqueta_0, imgs_etiqueta_0)"
   ]
  },
  {
   "cell_type": "code",
   "execution_count": 18,
   "metadata": {},
   "outputs": [],
   "source": [
    "def show_imgs_keypoints(etiqueta, imgs_etiquetas):\n",
    "    # keypoints = {}\n",
    "    for img in imgs_etiquetas:\n",
    "        path_img = os.path.join(etiqueta, img)\n",
    "        print(f'{path_img}')\n",
    "        image = io.imread(path_img)\n",
    "        image = rgb2gray(image)\n",
    "        censure = CENSURE(min_scale=1, max_scale=10)\n",
    "        censure.detect(image)\n",
    "       # keypoints[img] = censure.keypoints\n",
    "        plt.title(f'{img}')\n",
    "        plt.imshow(image, cmap='gray')\n",
    "        plt.scatter(censure.keypoints[:, 1], censure.keypoints[:, 0],\n",
    "              2 ** censure.scales, facecolors='none', edgecolors='r')\n",
    "        plt.tight_layout()\n",
    "        plt.axis('off')\n",
    "        plt.show()\n",
    "        break\n",
    "    # return keypoints"
   ]
  },
  {
   "cell_type": "code",
   "execution_count": 19,
   "metadata": {
    "scrolled": true
   },
   "outputs": [],
   "source": [
    "# show_imgs_keypoints(etiqueta_0, imgs_etiqueta_0)"
   ]
  },
  {
   "cell_type": "code",
   "execution_count": 20,
   "metadata": {},
   "outputs": [],
   "source": [
    "from scipy import stats"
   ]
  },
  {
   "cell_type": "code",
   "execution_count": 21,
   "metadata": {},
   "outputs": [
    {
     "data": {
      "text/plain": [
       "['PearsonRConstantInputWarning',\n",
       " 'PearsonRNearConstantInputWarning',\n",
       " 'absolute_import',\n",
       " 'alpha',\n",
       " 'anderson',\n",
       " 'anderson_ksamp',\n",
       " 'anglit',\n",
       " 'ansari',\n",
       " 'arcsine',\n",
       " 'argus',\n",
       " 'bartlett',\n",
       " 'bayes_mvs',\n",
       " 'bernoulli',\n",
       " 'beta',\n",
       " 'betaprime',\n",
       " 'binned_statistic',\n",
       " 'binned_statistic_2d',\n",
       " 'binned_statistic_dd',\n",
       " 'binom',\n",
       " 'binom_test',\n",
       " 'boltzmann',\n",
       " 'boxcox',\n",
       " 'boxcox_llf',\n",
       " 'boxcox_normmax',\n",
       " 'boxcox_normplot',\n",
       " 'bradford',\n",
       " 'brunnermunzel',\n",
       " 'burr',\n",
       " 'burr12',\n",
       " 'cauchy',\n",
       " 'chi',\n",
       " 'chi2',\n",
       " 'chi2_contingency',\n",
       " 'chisquare',\n",
       " 'circmean',\n",
       " 'circstd',\n",
       " 'circvar',\n",
       " 'combine_pvalues',\n",
       " 'contingency',\n",
       " 'cosine',\n",
       " 'crystalball',\n",
       " 'cumfreq',\n",
       " 'describe',\n",
       " 'dgamma',\n",
       " 'dirichlet',\n",
       " 'distributions',\n",
       " 'division',\n",
       " 'dlaplace',\n",
       " 'dweibull',\n",
       " 'energy_distance',\n",
       " 'entropy',\n",
       " 'epps_singleton_2samp',\n",
       " 'erlang',\n",
       " 'expon',\n",
       " 'exponnorm',\n",
       " 'exponpow',\n",
       " 'exponweib',\n",
       " 'f',\n",
       " 'f_oneway',\n",
       " 'fatiguelife',\n",
       " 'find_repeats',\n",
       " 'fisher_exact',\n",
       " 'fisk',\n",
       " 'fligner',\n",
       " 'foldcauchy',\n",
       " 'foldnorm',\n",
       " 'frechet_l',\n",
       " 'frechet_r',\n",
       " 'friedmanchisquare',\n",
       " 'gamma',\n",
       " 'gausshyper',\n",
       " 'gaussian_kde',\n",
       " 'genexpon',\n",
       " 'genextreme',\n",
       " 'gengamma',\n",
       " 'genhalflogistic',\n",
       " 'genlogistic',\n",
       " 'gennorm',\n",
       " 'genpareto',\n",
       " 'geom',\n",
       " 'gilbrat',\n",
       " 'gmean',\n",
       " 'gompertz',\n",
       " 'gstd',\n",
       " 'gumbel_l',\n",
       " 'gumbel_r',\n",
       " 'halfcauchy',\n",
       " 'halfgennorm',\n",
       " 'halflogistic',\n",
       " 'halfnorm',\n",
       " 'hmean',\n",
       " 'hypergeom',\n",
       " 'hypsecant',\n",
       " 'invgamma',\n",
       " 'invgauss',\n",
       " 'invweibull',\n",
       " 'invwishart',\n",
       " 'iqr',\n",
       " 'itemfreq',\n",
       " 'jarque_bera',\n",
       " 'johnsonsb',\n",
       " 'johnsonsu',\n",
       " 'kappa3',\n",
       " 'kappa4',\n",
       " 'kde',\n",
       " 'kendalltau',\n",
       " 'kruskal',\n",
       " 'ks_2samp',\n",
       " 'ksone',\n",
       " 'kstat',\n",
       " 'kstatvar',\n",
       " 'kstest',\n",
       " 'kstwobign',\n",
       " 'kurtosis',\n",
       " 'kurtosistest',\n",
       " 'laplace',\n",
       " 'levene',\n",
       " 'levy',\n",
       " 'levy_l',\n",
       " 'levy_stable',\n",
       " 'linregress',\n",
       " 'loggamma',\n",
       " 'logistic',\n",
       " 'loglaplace',\n",
       " 'lognorm',\n",
       " 'logser',\n",
       " 'lomax',\n",
       " 'mannwhitneyu',\n",
       " 'matrix_normal',\n",
       " 'maxwell',\n",
       " 'median_absolute_deviation',\n",
       " 'median_test',\n",
       " 'mielke',\n",
       " 'mode',\n",
       " 'moment',\n",
       " 'mood',\n",
       " 'morestats',\n",
       " 'moyal',\n",
       " 'mstats',\n",
       " 'mstats_basic',\n",
       " 'mstats_extras',\n",
       " 'multinomial',\n",
       " 'multivariate_normal',\n",
       " 'mvn',\n",
       " 'mvsdist',\n",
       " 'nakagami',\n",
       " 'nbinom',\n",
       " 'ncf',\n",
       " 'nct',\n",
       " 'ncx2',\n",
       " 'norm',\n",
       " 'normaltest',\n",
       " 'norminvgauss',\n",
       " 'obrientransform',\n",
       " 'ortho_group',\n",
       " 'pareto',\n",
       " 'pearson3',\n",
       " 'pearsonr',\n",
       " 'percentileofscore',\n",
       " 'planck',\n",
       " 'pointbiserialr',\n",
       " 'poisson',\n",
       " 'power_divergence',\n",
       " 'powerlaw',\n",
       " 'powerlognorm',\n",
       " 'powernorm',\n",
       " 'ppcc_max',\n",
       " 'ppcc_plot',\n",
       " 'print_function',\n",
       " 'probplot',\n",
       " 'randint',\n",
       " 'random_correlation',\n",
       " 'rankdata',\n",
       " 'ranksums',\n",
       " 'rayleigh',\n",
       " 'rdist',\n",
       " 'recipinvgauss',\n",
       " 'reciprocal',\n",
       " 'relfreq',\n",
       " 'rice',\n",
       " 'rv_continuous',\n",
       " 'rv_discrete',\n",
       " 'rv_histogram',\n",
       " 'rvs_ratio_uniforms',\n",
       " 'scoreatpercentile',\n",
       " 'sem',\n",
       " 'semicircular',\n",
       " 'shapiro',\n",
       " 'siegelslopes',\n",
       " 'sigmaclip',\n",
       " 'skellam',\n",
       " 'skew',\n",
       " 'skewnorm',\n",
       " 'skewtest',\n",
       " 'spearmanr',\n",
       " 'special_ortho_group',\n",
       " 'statlib',\n",
       " 'stats',\n",
       " 't',\n",
       " 'test',\n",
       " 'theilslopes',\n",
       " 'tiecorrect',\n",
       " 'tmax',\n",
       " 'tmean',\n",
       " 'tmin',\n",
       " 'trapz',\n",
       " 'triang',\n",
       " 'trim1',\n",
       " 'trim_mean',\n",
       " 'trimboth',\n",
       " 'truncexpon',\n",
       " 'truncnorm',\n",
       " 'tsem',\n",
       " 'tstd',\n",
       " 'ttest_1samp',\n",
       " 'ttest_ind',\n",
       " 'ttest_ind_from_stats',\n",
       " 'ttest_rel',\n",
       " 'tukeylambda',\n",
       " 'tvar',\n",
       " 'uniform',\n",
       " 'unitary_group',\n",
       " 'variation',\n",
       " 'vonmises',\n",
       " 'vonmises_line',\n",
       " 'wald',\n",
       " 'wasserstein_distance',\n",
       " 'weibull_max',\n",
       " 'weibull_min',\n",
       " 'weightedtau',\n",
       " 'wilcoxon',\n",
       " 'wishart',\n",
       " 'wrapcauchy',\n",
       " 'yeojohnson',\n",
       " 'yeojohnson_llf',\n",
       " 'yeojohnson_normmax',\n",
       " 'yeojohnson_normplot',\n",
       " 'yulesimon',\n",
       " 'zipf',\n",
       " 'zmap',\n",
       " 'zscore']"
      ]
     },
     "execution_count": 21,
     "metadata": {},
     "output_type": "execute_result"
    }
   ],
   "source": [
    "[d for d in dir(stats) if not d.startswith('_')]"
   ]
  },
  {
   "cell_type": "code",
   "execution_count": 22,
   "metadata": {},
   "outputs": [],
   "source": [
    "from scipy import stats\n",
    "import pandas as pd"
   ]
  },
  {
   "cell_type": "code",
   "execution_count": 81,
   "metadata": {},
   "outputs": [],
   "source": [
    "def show_imgs_keypoints_features(etiqueta, imgs_etiquetas):\n",
    "    features = {}\n",
    "    for n,img in enumerate(imgs_etiquetas):\n",
    "        path_img = os.path.join(etiqueta, img)\n",
    "        image = io.imread(path_img)\n",
    "        image_r = image.copy()[:,:,0]\n",
    "        image_g = image.copy()[:,:,1]\n",
    "        image_b = image.copy()[:,:,2]\n",
    "        image_gray = rgb2gray(image)\n",
    "        images = [('red',image_r), ('green', image_g), ('blue', image_b), ('gray', image_gray)]\n",
    "        features[img] = {}\n",
    "        keypoints = []\n",
    "        for label, image in images:\n",
    "            censure = ORB(n_keypoints=10,\n",
    "                          downscale=1.2,\n",
    "                          n_scales=9,\n",
    "                          fast_n=4,\n",
    "                          fast_threshold=0.06,\n",
    "                          harris_k=0.04)\n",
    "            censure.detect_and_extract(image)\n",
    "            keypoints.extend(censure.keypoints.copy())\n",
    "        for label, image in images:\n",
    "            for ix, kp in enumerate(keypoints):\n",
    "                crop = image[int(kp[0])-3:int(kp[0])+4, int(kp[1])-3:int(kp[1])+4].copy()\n",
    "                if label != 'gray':\n",
    "                    crop = crop/255\n",
    "                features[img][f'{label}-{ix}'] = {\n",
    "                    'color': label,\n",
    "                    'kp': ix,\n",
    "                    'img': img,\n",
    "                    'sum': crop.sum(),\n",
    "                    'min': crop.min(),\n",
    "                    'max': crop.max(),\n",
    "                    'mean': crop.mean(),\n",
    "                    'std': crop.std(),\n",
    "                    'var': crop.var(),\n",
    "                    'kurtosis': stats.kurtosis(crop.ravel()),\n",
    "                    'moment_3': stats.moment(crop.ravel(), moment=3),\n",
    "                    'moment_4': stats.moment(crop.ravel(), moment=4),\n",
    "                    'skew': stats.skew(crop.ravel())\n",
    "                }\n",
    "                proba = [crop.ravel().tolist().count(val)/len(crop.ravel()) for i,val in enumerate(set(crop.ravel()))]\n",
    "                entropy = stats.entropy(proba)\n",
    "                features[img][f'{label}-{ix}'].update({'entropy': entropy})\n",
    "                features[img][f'{label}-{ix}'].update({'energy': sum(p**2 for p in proba)})\n",
    "                \n",
    "#             plt.title(f'{img}-{label}')\n",
    "#             plt.imshow(image, cmap='gray')\n",
    "#             plt.scatter([kp[1] for kp in keypoints], [kp[0] for kp in keypoints],\n",
    "#                   2 ** 1, facecolors='none', edgecolors='r')\n",
    "#             plt.tight_layout()\n",
    "#             plt.axis('off')\n",
    "#             plt.show()\n",
    "    return features"
   ]
  },
  {
   "cell_type": "code",
   "execution_count": 82,
   "metadata": {},
   "outputs": [],
   "source": [
    "features = show_imgs_keypoints_features(etiqueta_0, imgs_etiqueta_0)"
   ]
  },
  {
   "cell_type": "code",
   "execution_count": 83,
   "metadata": {},
   "outputs": [],
   "source": [
    "datas = []\n",
    "for img in features.keys():\n",
    "    for ix in features[img].keys():\n",
    "        datas.append(features[img][ix])"
   ]
  },
  {
   "cell_type": "code",
   "execution_count": 84,
   "metadata": {},
   "outputs": [],
   "source": [
    "df = pd.DataFrame(datas)"
   ]
  },
  {
   "cell_type": "code",
   "execution_count": 85,
   "metadata": {},
   "outputs": [
    {
     "data": {
      "text/html": [
       "<div>\n",
       "<style scoped>\n",
       "    .dataframe tbody tr th:only-of-type {\n",
       "        vertical-align: middle;\n",
       "    }\n",
       "\n",
       "    .dataframe tbody tr th {\n",
       "        vertical-align: top;\n",
       "    }\n",
       "\n",
       "    .dataframe thead th {\n",
       "        text-align: right;\n",
       "    }\n",
       "</style>\n",
       "<table border=\"1\" class=\"dataframe\">\n",
       "  <thead>\n",
       "    <tr style=\"text-align: right;\">\n",
       "      <th></th>\n",
       "      <th>color</th>\n",
       "      <th>energy</th>\n",
       "      <th>entropy</th>\n",
       "      <th>img</th>\n",
       "      <th>kp</th>\n",
       "      <th>kurtosis</th>\n",
       "      <th>max</th>\n",
       "      <th>mean</th>\n",
       "      <th>min</th>\n",
       "      <th>moment_3</th>\n",
       "      <th>moment_4</th>\n",
       "      <th>skew</th>\n",
       "      <th>std</th>\n",
       "      <th>sum</th>\n",
       "      <th>var</th>\n",
       "    </tr>\n",
       "  </thead>\n",
       "  <tbody>\n",
       "    <tr>\n",
       "      <th>0</th>\n",
       "      <td>red</td>\n",
       "      <td>0.029571</td>\n",
       "      <td>3.598225</td>\n",
       "      <td>154372.jpg</td>\n",
       "      <td>0</td>\n",
       "      <td>-1.067119</td>\n",
       "      <td>1.0</td>\n",
       "      <td>0.721809</td>\n",
       "      <td>0.360784</td>\n",
       "      <td>-0.001406</td>\n",
       "      <td>0.001999</td>\n",
       "      <td>-0.243859</td>\n",
       "      <td>0.179320</td>\n",
       "      <td>35.368627</td>\n",
       "      <td>0.032156</td>\n",
       "    </tr>\n",
       "    <tr>\n",
       "      <th>1</th>\n",
       "      <td>red</td>\n",
       "      <td>0.027072</td>\n",
       "      <td>3.665487</td>\n",
       "      <td>154372.jpg</td>\n",
       "      <td>1</td>\n",
       "      <td>-1.294360</td>\n",
       "      <td>1.0</td>\n",
       "      <td>0.713005</td>\n",
       "      <td>0.388235</td>\n",
       "      <td>-0.000755</td>\n",
       "      <td>0.001952</td>\n",
       "      <td>-0.121422</td>\n",
       "      <td>0.183917</td>\n",
       "      <td>34.937255</td>\n",
       "      <td>0.033825</td>\n",
       "    </tr>\n",
       "    <tr>\n",
       "      <th>2</th>\n",
       "      <td>red</td>\n",
       "      <td>0.027072</td>\n",
       "      <td>3.665487</td>\n",
       "      <td>154372.jpg</td>\n",
       "      <td>2</td>\n",
       "      <td>-1.320039</td>\n",
       "      <td>1.0</td>\n",
       "      <td>0.696759</td>\n",
       "      <td>0.349020</td>\n",
       "      <td>-0.001312</td>\n",
       "      <td>0.002710</td>\n",
       "      <td>-0.163025</td>\n",
       "      <td>0.200411</td>\n",
       "      <td>34.141176</td>\n",
       "      <td>0.040164</td>\n",
       "    </tr>\n",
       "    <tr>\n",
       "      <th>3</th>\n",
       "      <td>red</td>\n",
       "      <td>0.040400</td>\n",
       "      <td>3.528958</td>\n",
       "      <td>154372.jpg</td>\n",
       "      <td>3</td>\n",
       "      <td>-1.117320</td>\n",
       "      <td>1.0</td>\n",
       "      <td>0.767027</td>\n",
       "      <td>0.411765</td>\n",
       "      <td>-0.001388</td>\n",
       "      <td>0.001830</td>\n",
       "      <td>-0.252058</td>\n",
       "      <td>0.176576</td>\n",
       "      <td>37.584314</td>\n",
       "      <td>0.031179</td>\n",
       "    </tr>\n",
       "    <tr>\n",
       "      <th>4</th>\n",
       "      <td>red</td>\n",
       "      <td>0.037068</td>\n",
       "      <td>3.462288</td>\n",
       "      <td>154372.jpg</td>\n",
       "      <td>4</td>\n",
       "      <td>-1.308840</td>\n",
       "      <td>1.0</td>\n",
       "      <td>0.767187</td>\n",
       "      <td>0.454902</td>\n",
       "      <td>-0.001172</td>\n",
       "      <td>0.001645</td>\n",
       "      <td>-0.212761</td>\n",
       "      <td>0.176590</td>\n",
       "      <td>37.592157</td>\n",
       "      <td>0.031184</td>\n",
       "    </tr>\n",
       "  </tbody>\n",
       "</table>\n",
       "</div>"
      ],
      "text/plain": [
       "  color    energy   entropy         img  kp  kurtosis  max      mean  \\\n",
       "0   red  0.029571  3.598225  154372.jpg   0 -1.067119  1.0  0.721809   \n",
       "1   red  0.027072  3.665487  154372.jpg   1 -1.294360  1.0  0.713005   \n",
       "2   red  0.027072  3.665487  154372.jpg   2 -1.320039  1.0  0.696759   \n",
       "3   red  0.040400  3.528958  154372.jpg   3 -1.117320  1.0  0.767027   \n",
       "4   red  0.037068  3.462288  154372.jpg   4 -1.308840  1.0  0.767187   \n",
       "\n",
       "        min  moment_3  moment_4      skew       std        sum       var  \n",
       "0  0.360784 -0.001406  0.001999 -0.243859  0.179320  35.368627  0.032156  \n",
       "1  0.388235 -0.000755  0.001952 -0.121422  0.183917  34.937255  0.033825  \n",
       "2  0.349020 -0.001312  0.002710 -0.163025  0.200411  34.141176  0.040164  \n",
       "3  0.411765 -0.001388  0.001830 -0.252058  0.176576  37.584314  0.031179  \n",
       "4  0.454902 -0.001172  0.001645 -0.212761  0.176590  37.592157  0.031184  "
      ]
     },
     "execution_count": 85,
     "metadata": {},
     "output_type": "execute_result"
    }
   ],
   "source": [
    "df.head()"
   ]
  },
  {
   "cell_type": "code",
   "execution_count": 86,
   "metadata": {},
   "outputs": [],
   "source": [
    "df.to_csv('datasets_melanoma.csv', index=False)"
   ]
  },
  {
   "cell_type": "code",
   "execution_count": null,
   "metadata": {},
   "outputs": [],
   "source": []
  },
  {
   "cell_type": "code",
   "execution_count": null,
   "metadata": {},
   "outputs": [],
   "source": [
    "df = pd.read_csv('datasets_melanoma.csv')"
   ]
  },
  {
   "cell_type": "code",
   "execution_count": null,
   "metadata": {},
   "outputs": [],
   "source": [
    "describe_features = {}\n",
    "for img in set(df.img.values):\n",
    "    df_img = df[df.img==img]\n",
    "    describe_features[img] = df_img.describe()"
   ]
  },
  {
   "cell_type": "code",
   "execution_count": null,
   "metadata": {},
   "outputs": [],
   "source": [
    "set(df.img.values)"
   ]
  },
  {
   "cell_type": "code",
   "execution_count": null,
   "metadata": {},
   "outputs": [],
   "source": []
  },
  {
   "cell_type": "code",
   "execution_count": 87,
   "metadata": {},
   "outputs": [],
   "source": [
    "features1 = show_imgs_keypoints_features(etiqueta_1, imgs_etiqueta_1)"
   ]
  },
  {
   "cell_type": "code",
   "execution_count": 88,
   "metadata": {},
   "outputs": [],
   "source": [
    "datas1 = []\n",
    "for img in features1.keys():\n",
    "    for ix in features1[img].keys():\n",
    "        datas1.append(features1[img][ix])"
   ]
  },
  {
   "cell_type": "code",
   "execution_count": 89,
   "metadata": {},
   "outputs": [],
   "source": [
    "df1 = pd.DataFrame(datas1)"
   ]
  },
  {
   "cell_type": "code",
   "execution_count": 90,
   "metadata": {},
   "outputs": [
    {
     "data": {
      "text/html": [
       "<div>\n",
       "<style scoped>\n",
       "    .dataframe tbody tr th:only-of-type {\n",
       "        vertical-align: middle;\n",
       "    }\n",
       "\n",
       "    .dataframe tbody tr th {\n",
       "        vertical-align: top;\n",
       "    }\n",
       "\n",
       "    .dataframe thead th {\n",
       "        text-align: right;\n",
       "    }\n",
       "</style>\n",
       "<table border=\"1\" class=\"dataframe\">\n",
       "  <thead>\n",
       "    <tr style=\"text-align: right;\">\n",
       "      <th></th>\n",
       "      <th>color</th>\n",
       "      <th>energy</th>\n",
       "      <th>entropy</th>\n",
       "      <th>img</th>\n",
       "      <th>kp</th>\n",
       "      <th>kurtosis</th>\n",
       "      <th>max</th>\n",
       "      <th>mean</th>\n",
       "      <th>min</th>\n",
       "      <th>moment_3</th>\n",
       "      <th>moment_4</th>\n",
       "      <th>skew</th>\n",
       "      <th>std</th>\n",
       "      <th>sum</th>\n",
       "      <th>var</th>\n",
       "    </tr>\n",
       "  </thead>\n",
       "  <tbody>\n",
       "    <tr>\n",
       "      <th>0</th>\n",
       "      <td>red</td>\n",
       "      <td>0.037901</td>\n",
       "      <td>3.451609</td>\n",
       "      <td>132357.jpg</td>\n",
       "      <td>0</td>\n",
       "      <td>0.129172</td>\n",
       "      <td>0.874510</td>\n",
       "      <td>0.584874</td>\n",
       "      <td>0.443137</td>\n",
       "      <td>0.001216</td>\n",
       "      <td>0.000440</td>\n",
       "      <td>0.941908</td>\n",
       "      <td>0.108883</td>\n",
       "      <td>28.658824</td>\n",
       "      <td>0.011855</td>\n",
       "    </tr>\n",
       "    <tr>\n",
       "      <th>1</th>\n",
       "      <td>red</td>\n",
       "      <td>0.028738</td>\n",
       "      <td>3.644129</td>\n",
       "      <td>132357.jpg</td>\n",
       "      <td>1</td>\n",
       "      <td>-1.107086</td>\n",
       "      <td>0.894118</td>\n",
       "      <td>0.634174</td>\n",
       "      <td>0.419608</td>\n",
       "      <td>0.000601</td>\n",
       "      <td>0.000719</td>\n",
       "      <td>0.220771</td>\n",
       "      <td>0.139612</td>\n",
       "      <td>31.074510</td>\n",
       "      <td>0.019491</td>\n",
       "    </tr>\n",
       "    <tr>\n",
       "      <th>2</th>\n",
       "      <td>red</td>\n",
       "      <td>0.031237</td>\n",
       "      <td>3.541641</td>\n",
       "      <td>132357.jpg</td>\n",
       "      <td>2</td>\n",
       "      <td>-0.685121</td>\n",
       "      <td>0.921569</td>\n",
       "      <td>0.670188</td>\n",
       "      <td>0.541176</td>\n",
       "      <td>0.000988</td>\n",
       "      <td>0.000317</td>\n",
       "      <td>0.781287</td>\n",
       "      <td>0.108140</td>\n",
       "      <td>32.839216</td>\n",
       "      <td>0.011694</td>\n",
       "    </tr>\n",
       "    <tr>\n",
       "      <th>3</th>\n",
       "      <td>red</td>\n",
       "      <td>0.028738</td>\n",
       "      <td>3.626516</td>\n",
       "      <td>132357.jpg</td>\n",
       "      <td>3</td>\n",
       "      <td>-1.033803</td>\n",
       "      <td>0.866667</td>\n",
       "      <td>0.601040</td>\n",
       "      <td>0.427451</td>\n",
       "      <td>0.001167</td>\n",
       "      <td>0.000643</td>\n",
       "      <td>0.479856</td>\n",
       "      <td>0.134477</td>\n",
       "      <td>29.450980</td>\n",
       "      <td>0.018084</td>\n",
       "    </tr>\n",
       "    <tr>\n",
       "      <th>4</th>\n",
       "      <td>red</td>\n",
       "      <td>0.030404</td>\n",
       "      <td>3.569933</td>\n",
       "      <td>132357.jpg</td>\n",
       "      <td>4</td>\n",
       "      <td>0.231241</td>\n",
       "      <td>0.882353</td>\n",
       "      <td>0.607683</td>\n",
       "      <td>0.470588</td>\n",
       "      <td>0.001382</td>\n",
       "      <td>0.000452</td>\n",
       "      <td>1.073548</td>\n",
       "      <td>0.108773</td>\n",
       "      <td>29.776471</td>\n",
       "      <td>0.011832</td>\n",
       "    </tr>\n",
       "  </tbody>\n",
       "</table>\n",
       "</div>"
      ],
      "text/plain": [
       "  color    energy   entropy         img  kp  kurtosis       max      mean  \\\n",
       "0   red  0.037901  3.451609  132357.jpg   0  0.129172  0.874510  0.584874   \n",
       "1   red  0.028738  3.644129  132357.jpg   1 -1.107086  0.894118  0.634174   \n",
       "2   red  0.031237  3.541641  132357.jpg   2 -0.685121  0.921569  0.670188   \n",
       "3   red  0.028738  3.626516  132357.jpg   3 -1.033803  0.866667  0.601040   \n",
       "4   red  0.030404  3.569933  132357.jpg   4  0.231241  0.882353  0.607683   \n",
       "\n",
       "        min  moment_3  moment_4      skew       std        sum       var  \n",
       "0  0.443137  0.001216  0.000440  0.941908  0.108883  28.658824  0.011855  \n",
       "1  0.419608  0.000601  0.000719  0.220771  0.139612  31.074510  0.019491  \n",
       "2  0.541176  0.000988  0.000317  0.781287  0.108140  32.839216  0.011694  \n",
       "3  0.427451  0.001167  0.000643  0.479856  0.134477  29.450980  0.018084  \n",
       "4  0.470588  0.001382  0.000452  1.073548  0.108773  29.776471  0.011832  "
      ]
     },
     "execution_count": 90,
     "metadata": {},
     "output_type": "execute_result"
    }
   ],
   "source": [
    "df1.head()"
   ]
  },
  {
   "cell_type": "code",
   "execution_count": 91,
   "metadata": {},
   "outputs": [],
   "source": [
    "df1.to_csv('datasets_naevus.csv', index=False)"
   ]
  },
  {
   "cell_type": "code",
   "execution_count": null,
   "metadata": {},
   "outputs": [],
   "source": []
  },
  {
   "cell_type": "code",
   "execution_count": null,
   "metadata": {},
   "outputs": [],
   "source": [
    "df1 = pd.read_csv('datasets_naevus.csv')"
   ]
  },
  {
   "cell_type": "code",
   "execution_count": null,
   "metadata": {},
   "outputs": [],
   "source": [
    "describe_features1 = {}\n",
    "for img in set(df1.img.values):\n",
    "    df_img1 = df1[df1.img==img]\n",
    "    describe_features1[img] = df_img1.describe()"
   ]
  },
  {
   "cell_type": "code",
   "execution_count": null,
   "metadata": {},
   "outputs": [],
   "source": [
    "set(df1.img.values)"
   ]
  },
  {
   "cell_type": "code",
   "execution_count": null,
   "metadata": {},
   "outputs": [],
   "source": [
    "X = [describe_features[img].ix[['mean', 'std']].values.ravel() for img in set(df.img.values)]\n",
    "y = [1. for _ in X]\n",
    "leny = len(y)\n",
    "X.extend([describe_features1[img].ix[['mean', 'std']].values.ravel() for img in set(df1.img.values)])\n",
    "y = [1. if i < leny else 0. for i,_ in enumerate(X)]"
   ]
  },
  {
   "cell_type": "code",
   "execution_count": null,
   "metadata": {},
   "outputs": [],
   "source": [
    "len(X), len(y)"
   ]
  },
  {
   "cell_type": "code",
   "execution_count": null,
   "metadata": {},
   "outputs": [],
   "source": [
    "from sklearn.linear_model import LinearRegression\n",
    "from sklearn.linear_model import Perceptron\n",
    "from sklearn import svm\n",
    "from sklearn.linear_model import SGDClassifier\n",
    "from sklearn.model_selection import train_test_split\n",
    "from sklearn.model_selection import GridSearchCV\n",
    "from sklearn.metrics import r2_score\n",
    "from sklearn.metrics import mean_squared_error\n",
    "from sklearn.metrics import classification_report"
   ]
  },
  {
   "cell_type": "code",
   "execution_count": null,
   "metadata": {},
   "outputs": [],
   "source": [
    "X_train, X_test, y_train, y_test = train_test_split(X, y, test_size=0.20, random_state=42)"
   ]
  },
  {
   "cell_type": "code",
   "execution_count": null,
   "metadata": {},
   "outputs": [],
   "source": [
    "clf = Perceptron()"
   ]
  },
  {
   "cell_type": "code",
   "execution_count": null,
   "metadata": {},
   "outputs": [],
   "source": [
    "clf = LinearRegression()"
   ]
  },
  {
   "cell_type": "code",
   "execution_count": null,
   "metadata": {},
   "outputs": [],
   "source": [
    "clf = svm.SVC(gamma='scale', decision_function_shape='ovo')"
   ]
  },
  {
   "cell_type": "code",
   "execution_count": null,
   "metadata": {},
   "outputs": [],
   "source": [
    "clf = svm.LinearSVC(max_iter=10000, tol=0.001, multi_class='crammer_singer')"
   ]
  },
  {
   "cell_type": "code",
   "execution_count": null,
   "metadata": {},
   "outputs": [],
   "source": [
    "SGDC = SGDClassifier(tol=0.00001, loss=\"modified_huber\", shuffle=False, penalty=\"elasticnet\", max_iter=10000, validation_fraction=0.50)"
   ]
  },
  {
   "cell_type": "code",
   "execution_count": null,
   "metadata": {},
   "outputs": [],
   "source": [
    "parameters = {\n",
    "    'loss': ('log', 'modified_huber'), \n",
    "    'tol': [0.00001, 0.0001, 0.001, 0.01, 0.1], \n",
    "    'penalty': ('elasticnet', 'l2', 'l1'),\n",
    "    'validation_fraction': [0.60, 0.50, 0.40, 0.30, 0.20, 0.10]\n",
    "}"
   ]
  },
  {
   "cell_type": "code",
   "execution_count": null,
   "metadata": {},
   "outputs": [],
   "source": [
    "clf = GridSearchCV(SGDC, parameters, cv=5)"
   ]
  },
  {
   "cell_type": "code",
   "execution_count": null,
   "metadata": {},
   "outputs": [],
   "source": [
    "clf = clf.fit(X_train, y_train)"
   ]
  },
  {
   "cell_type": "code",
   "execution_count": null,
   "metadata": {},
   "outputs": [],
   "source": [
    "y_pred = clf.predict(X_test)"
   ]
  },
  {
   "cell_type": "code",
   "execution_count": null,
   "metadata": {},
   "outputs": [],
   "source": [
    "r2_score(y_test, y_pred)"
   ]
  },
  {
   "cell_type": "code",
   "execution_count": null,
   "metadata": {},
   "outputs": [],
   "source": [
    "mean_squared_error(y_test, y_pred)"
   ]
  },
  {
   "cell_type": "code",
   "execution_count": null,
   "metadata": {},
   "outputs": [],
   "source": [
    "print(classification_report(y_test, y_pred))"
   ]
  },
  {
   "cell_type": "code",
   "execution_count": null,
   "metadata": {},
   "outputs": [],
   "source": []
  },
  {
   "cell_type": "code",
   "execution_count": null,
   "metadata": {},
   "outputs": [],
   "source": [
    "from scipy.ndimage import binary_fill_holes"
   ]
  },
  {
   "cell_type": "code",
   "execution_count": null,
   "metadata": {},
   "outputs": [],
   "source": [
    "def show_imgs_filtered(etiqueta, imgs_etiquetas):\n",
    "    for n,img in enumerate(imgs_etiquetas):\n",
    "        path_img = os.path.join(etiqueta, img)\n",
    "        print(f'{path_img}')\n",
    "        image = io.imread(path_img)\n",
    "        plt.title(f'{img}')\n",
    "        plt.imshow(image)\n",
    "        plt.tight_layout()\n",
    "        plt.axis('off')\n",
    "        plt.show()\n",
    "        \n",
    "        image_r = image.copy()[:,:,0]\n",
    "        image_g = image.copy()[:,:,1]\n",
    "        image_b = image.copy()[:,:,2]\n",
    "        image_gray = rgb2gray(image)\n",
    "        \n",
    "        images = [('red',image_r), ('green', image_g), ('blue', image_b), ('gray', image_gray)]\n",
    "        for img, image in images:\n",
    "            feature = filters.gaussian(image, sigma=1)\n",
    "            feature = filters.median(feature, morphology.disk(3))\n",
    "            feature = filters.median(feature, morphology.disk(5))\n",
    "            feature = filters.median(feature, morphology.disk(10))\n",
    "            cond = feature < feature.max() / 2\n",
    "            feature[cond] = 0\n",
    "            feature[~cond] = 1\n",
    "            feature = filters.gaussian(feature,sigma=1)\n",
    "            feature = filters.roberts(feature)\n",
    "            feature = binary_fill_holes(feature)\n",
    "            plt.title(f'{img}')\n",
    "            plt.imshow(feature, cmap='gray')\n",
    "            plt.tight_layout()\n",
    "            plt.axis('off')\n",
    "            plt.show()\n",
    "        if n > 5:\n",
    "            break"
   ]
  },
  {
   "cell_type": "code",
   "execution_count": null,
   "metadata": {
    "scrolled": false
   },
   "outputs": [],
   "source": [
    "show_imgs_filtered(etiqueta_0, imgs_etiqueta_0)"
   ]
  },
  {
   "cell_type": "code",
   "execution_count": null,
   "metadata": {},
   "outputs": [],
   "source": []
  },
  {
   "cell_type": "code",
   "execution_count": null,
   "metadata": {},
   "outputs": [],
   "source": []
  }
 ],
 "metadata": {
  "kernelspec": {
   "display_name": "Python 3",
   "language": "python",
   "name": "python3"
  },
  "language_info": {
   "codemirror_mode": {
    "name": "ipython",
    "version": 3
   },
   "file_extension": ".py",
   "mimetype": "text/x-python",
   "name": "python",
   "nbconvert_exporter": "python",
   "pygments_lexer": "ipython3",
   "version": "3.6.5"
  }
 },
 "nbformat": 4,
 "nbformat_minor": 2
}
