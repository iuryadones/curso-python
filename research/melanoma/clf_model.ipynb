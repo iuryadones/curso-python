{
 "cells": [
  {
   "cell_type": "code",
   "execution_count": 72,
   "metadata": {},
   "outputs": [],
   "source": [
    "from pprint import pprint"
   ]
  },
  {
   "cell_type": "code",
   "execution_count": 73,
   "metadata": {},
   "outputs": [],
   "source": [
    "import warnings\n",
    "warnings.filterwarnings('ignore')"
   ]
  },
  {
   "cell_type": "code",
   "execution_count": 74,
   "metadata": {},
   "outputs": [],
   "source": [
    "import pandas as pd\n",
    "from sklearn.linear_model import LinearRegression\n",
    "from sklearn.linear_model import Perceptron\n",
    "from sklearn import svm\n",
    "from sklearn.linear_model import SGDClassifier\n",
    "from sklearn.model_selection import train_test_split\n",
    "from sklearn.model_selection import GridSearchCV\n",
    "from sklearn.metrics import r2_score\n",
    "from sklearn.metrics import mean_squared_error\n",
    "from sklearn.metrics import classification_report"
   ]
  },
  {
   "cell_type": "code",
   "execution_count": 196,
   "metadata": {},
   "outputs": [],
   "source": [
    "df = pd.read_csv('datasets_melanoma.csv')\n",
    "describe_features = {}\n",
    "for img in set(df.img.values):\n",
    "    df_img = df[df.img==img][\n",
    "        ['energy','entropy', 'kurtosis', \n",
    "         'max','mean', 'min', 'moment_3',\n",
    "         'moment_4','skew', 'std', 'sum', 'var', 'color']\n",
    "    ]\n",
    "    describe_features[img] = []\n",
    "    describe_features[img].extend(df_img[df_img.color == 'red'].describe().ix[['mean', 'std']].values.ravel())\n",
    "    describe_features[img].extend(df_img[df_img.color == 'green'].describe().ix[['mean', 'std']].values.ravel())\n",
    "    describe_features[img].extend(df_img[df_img.color == 'blue'].describe().ix[['mean', 'std']].values.ravel())\n",
    "    # describe_features[img].extend(df_img[df_img.color == 'gray'].describe().ix[['mean', 'std']].values.ravel())"
   ]
  },
  {
   "cell_type": "code",
   "execution_count": 197,
   "metadata": {},
   "outputs": [],
   "source": [
    "df1 = pd.read_csv('datasets_naevus.csv')\n",
    "describe_features1 = {}\n",
    "for img1 in set(df1.img.values):\n",
    "    df_img1 = df1[df1.img==img1][\n",
    "        ['energy','entropy', 'kurtosis', \n",
    "         'max','mean', 'min', 'moment_3',\n",
    "         'moment_4','skew', 'std', 'sum', 'var', 'color']\n",
    "    ]\n",
    "    \n",
    "    describe_features1[img1] = []\n",
    "    describe_features1[img1].extend(df_img1[df_img1.color == 'red'].describe().ix[['mean', 'std']].values.ravel())\n",
    "    describe_features1[img1].extend(df_img1[df_img1.color == 'green'].describe().ix[['mean', 'std']].values.ravel())\n",
    "    describe_features1[img1].extend(df_img1[df_img1.color == 'blue'].describe().ix[['mean', 'std']].values.ravel())\n",
    "    # describe_features1[img1].extend(df_img1[df_img1.color == 'gray'].describe().ix[['mean', 'std']].values.ravel())"
   ]
  },
  {
   "cell_type": "code",
   "execution_count": 198,
   "metadata": {},
   "outputs": [],
   "source": [
    "X = [describe_features[img] for img in set(df.img.values)]\n",
    "y = [1. for _ in X]\n",
    "leny = len(y)\n",
    "X.extend([describe_features1[img] for img in set(df1.img.values)])\n",
    "y = [1. if i < leny else 0. for i,_ in enumerate(X)]"
   ]
  },
  {
   "cell_type": "code",
   "execution_count": 213,
   "metadata": {},
   "outputs": [],
   "source": [
    "X_train, X_test, y_train, y_test = train_test_split(X, y, test_size=0.10, random_state=42)"
   ]
  },
  {
   "cell_type": "markdown",
   "metadata": {},
   "source": [
    "## Classification"
   ]
  },
  {
   "cell_type": "code",
   "execution_count": 214,
   "metadata": {},
   "outputs": [
    {
     "name": "stdout",
     "output_type": "stream",
     "text": [
      "              precision    recall  f1-score   support\n",
      "\n",
      "         0.0       0.60      1.00      0.75         9\n",
      "         1.0       1.00      0.25      0.40         8\n",
      "\n",
      "    accuracy                           0.65        17\n",
      "   macro avg       0.80      0.62      0.57        17\n",
      "weighted avg       0.79      0.65      0.59        17\n",
      "\n",
      "{'alpha': 0.0001,\n",
      " 'class_weight': None,\n",
      " 'early_stopping': False,\n",
      " 'eta0': 1.0,\n",
      " 'fit_intercept': True,\n",
      " 'max_iter': 1000,\n",
      " 'n_iter_no_change': 5,\n",
      " 'n_jobs': None,\n",
      " 'penalty': None,\n",
      " 'random_state': 0,\n",
      " 'shuffle': True,\n",
      " 'tol': 0.001,\n",
      " 'validation_fraction': 0.1,\n",
      " 'verbose': 0,\n",
      " 'warm_start': False}\n"
     ]
    }
   ],
   "source": [
    "clf = Perceptron()\n",
    "clf = clf.fit(X_train, y_train)\n",
    "y_pred = clf.predict(X_test)\n",
    "print(classification_report(y_test, y_pred))\n",
    "pprint(clf.get_params())"
   ]
  },
  {
   "cell_type": "code",
   "execution_count": 215,
   "metadata": {},
   "outputs": [
    {
     "name": "stdout",
     "output_type": "stream",
     "text": [
      "              precision    recall  f1-score   support\n",
      "\n",
      "         0.0       0.73      0.89      0.80         9\n",
      "         1.0       0.83      0.62      0.71         8\n",
      "\n",
      "    accuracy                           0.76        17\n",
      "   macro avg       0.78      0.76      0.76        17\n",
      "weighted avg       0.78      0.76      0.76        17\n",
      "\n",
      "{'alpha': 0.0001,\n",
      " 'average': False,\n",
      " 'class_weight': None,\n",
      " 'early_stopping': False,\n",
      " 'epsilon': 0.1,\n",
      " 'eta0': 0.0,\n",
      " 'fit_intercept': True,\n",
      " 'l1_ratio': 0.15,\n",
      " 'learning_rate': 'optimal',\n",
      " 'loss': 'hinge',\n",
      " 'max_iter': 1000,\n",
      " 'n_iter_no_change': 5,\n",
      " 'n_jobs': None,\n",
      " 'penalty': 'l2',\n",
      " 'power_t': 0.5,\n",
      " 'random_state': None,\n",
      " 'shuffle': True,\n",
      " 'tol': 0.001,\n",
      " 'validation_fraction': 0.1,\n",
      " 'verbose': 0,\n",
      " 'warm_start': False}\n"
     ]
    }
   ],
   "source": [
    "clf = SGDClassifier()\n",
    "clf = clf.fit(X_train, y_train)\n",
    "y_pred = clf.predict(X_test)\n",
    "print(classification_report(y_test, y_pred))\n",
    "pprint(clf.get_params())"
   ]
  },
  {
   "cell_type": "code",
   "execution_count": 216,
   "metadata": {},
   "outputs": [
    {
     "name": "stdout",
     "output_type": "stream",
     "text": [
      "              precision    recall  f1-score   support\n",
      "\n",
      "         0.0       0.86      0.67      0.75         9\n",
      "         1.0       0.70      0.88      0.78         8\n",
      "\n",
      "    accuracy                           0.76        17\n",
      "   macro avg       0.78      0.77      0.76        17\n",
      "weighted avg       0.78      0.76      0.76        17\n",
      "\n",
      "{'C': 1.0,\n",
      " 'cache_size': 200,\n",
      " 'class_weight': None,\n",
      " 'coef0': 0.0,\n",
      " 'decision_function_shape': 'ovo',\n",
      " 'degree': 3,\n",
      " 'gamma': 'scale',\n",
      " 'kernel': 'rbf',\n",
      " 'max_iter': -1,\n",
      " 'probability': False,\n",
      " 'random_state': None,\n",
      " 'shrinking': True,\n",
      " 'tol': 0.001,\n",
      " 'verbose': False}\n"
     ]
    }
   ],
   "source": [
    "clf = svm.SVC(gamma='scale', decision_function_shape='ovo')\n",
    "clf = clf.fit(X_train, y_train)\n",
    "y_pred = clf.predict(X_test)\n",
    "print(classification_report(y_test, y_pred))\n",
    "pprint(clf.get_params())"
   ]
  },
  {
   "cell_type": "code",
   "execution_count": 217,
   "metadata": {},
   "outputs": [
    {
     "name": "stdout",
     "output_type": "stream",
     "text": [
      "              precision    recall  f1-score   support\n",
      "\n",
      "         0.0       0.71      0.56      0.63         9\n",
      "         1.0       0.60      0.75      0.67         8\n",
      "\n",
      "    accuracy                           0.65        17\n",
      "   macro avg       0.66      0.65      0.65        17\n",
      "weighted avg       0.66      0.65      0.64        17\n",
      "\n",
      "{'C': 1.0,\n",
      " 'class_weight': None,\n",
      " 'dual': True,\n",
      " 'fit_intercept': True,\n",
      " 'intercept_scaling': 1,\n",
      " 'loss': 'squared_hinge',\n",
      " 'max_iter': 10000,\n",
      " 'multi_class': 'crammer_singer',\n",
      " 'penalty': 'l2',\n",
      " 'random_state': None,\n",
      " 'tol': 0.001,\n",
      " 'verbose': 0}\n"
     ]
    }
   ],
   "source": [
    "clf = svm.LinearSVC(max_iter=10000, tol=0.001, multi_class='crammer_singer')\n",
    "clf = clf.fit(X_train, y_train)\n",
    "y_pred = clf.predict(X_test)\n",
    "print(classification_report(y_test, y_pred))\n",
    "pprint(clf.get_params())"
   ]
  },
  {
   "cell_type": "code",
   "execution_count": 218,
   "metadata": {},
   "outputs": [
    {
     "name": "stdout",
     "output_type": "stream",
     "text": [
      "              precision    recall  f1-score   support\n",
      "\n",
      "         0.0       0.67      0.67      0.67         9\n",
      "         1.0       0.62      0.62      0.62         8\n",
      "\n",
      "    accuracy                           0.65        17\n",
      "   macro avg       0.65      0.65      0.65        17\n",
      "weighted avg       0.65      0.65      0.65        17\n",
      "\n",
      "{'cv': 5,\n",
      " 'error_score': 'raise-deprecating',\n",
      " 'estimator': SGDClassifier(alpha=0.0001, average=False, class_weight=None,\n",
      "              early_stopping=False, epsilon=0.1, eta0=0.0, fit_intercept=True,\n",
      "              l1_ratio=0.15, learning_rate='optimal', loss='hinge',\n",
      "              max_iter=1000, n_iter_no_change=5, n_jobs=None, penalty='l2',\n",
      "              power_t=0.5, random_state=None, shuffle=False, tol=0.001,\n",
      "              validation_fraction=0.1, verbose=0, warm_start=False),\n",
      " 'estimator__alpha': 0.0001,\n",
      " 'estimator__average': False,\n",
      " 'estimator__class_weight': None,\n",
      " 'estimator__early_stopping': False,\n",
      " 'estimator__epsilon': 0.1,\n",
      " 'estimator__eta0': 0.0,\n",
      " 'estimator__fit_intercept': True,\n",
      " 'estimator__l1_ratio': 0.15,\n",
      " 'estimator__learning_rate': 'optimal',\n",
      " 'estimator__loss': 'hinge',\n",
      " 'estimator__max_iter': 1000,\n",
      " 'estimator__n_iter_no_change': 5,\n",
      " 'estimator__n_jobs': None,\n",
      " 'estimator__penalty': 'l2',\n",
      " 'estimator__power_t': 0.5,\n",
      " 'estimator__random_state': None,\n",
      " 'estimator__shuffle': False,\n",
      " 'estimator__tol': 0.001,\n",
      " 'estimator__validation_fraction': 0.1,\n",
      " 'estimator__verbose': 0,\n",
      " 'estimator__warm_start': False,\n",
      " 'iid': 'warn',\n",
      " 'n_jobs': None,\n",
      " 'param_grid': {'average': [False, True],\n",
      "                'loss': ('log', 'modified_huber', 'hinge'),\n",
      "                'max_iter': [10000, 1000, 100],\n",
      "                'penalty': ('elasticnet', 'l2', 'l1'),\n",
      "                'tol': [1e-05, 0.0001, 0.001, 0.01, 0.1],\n",
      "                'validation_fraction': [0.6, 0.5, 0.4, 0.3, 0.2, 0.1]},\n",
      " 'pre_dispatch': '2*n_jobs',\n",
      " 'refit': True,\n",
      " 'return_train_score': False,\n",
      " 'scoring': None,\n",
      " 'verbose': 0}\n"
     ]
    }
   ],
   "source": [
    "SGDC = SGDClassifier(\n",
    "    shuffle=False,\n",
    ")\n",
    "parameters = {\n",
    "    'loss': ('log', 'modified_huber', 'hinge'), \n",
    "    'tol': [0.00001, 0.0001, 0.001, 0.01, 0.1], \n",
    "    'penalty': ('elasticnet', 'l2', 'l1'),\n",
    "    'validation_fraction': [0.60, 0.50, 0.40, 0.30, 0.20, 0.10],\n",
    "    'max_iter' : [10000, 1000, 100],\n",
    "    'average': [False, True],\n",
    "}\n",
    "clf = GridSearchCV(SGDC, parameters, cv=5)\n",
    "clf = clf.fit(X_train, y_train)\n",
    "y_pred = clf.predict(X_test)\n",
    "print(classification_report(y_test, y_pred))\n",
    "pprint(clf.get_params())"
   ]
  },
  {
   "cell_type": "markdown",
   "metadata": {},
   "source": [
    "## Regression"
   ]
  },
  {
   "cell_type": "code",
   "execution_count": 219,
   "metadata": {},
   "outputs": [
    {
     "name": "stdout",
     "output_type": "stream",
     "text": [
      "-0.5930847402902162\n",
      "0.3968930840861438\n",
      "{'copy_X': True, 'fit_intercept': True, 'n_jobs': None, 'normalize': False}\n"
     ]
    }
   ],
   "source": [
    "clf = LinearRegression()\n",
    "clf = clf.fit(X_train, y_train)\n",
    "y_pred = clf.predict(X_test)\n",
    "print(r2_score(y_test, y_pred))\n",
    "print(mean_squared_error(y_test, y_pred))\n",
    "pprint(clf.get_params())"
   ]
  },
  {
   "cell_type": "code",
   "execution_count": null,
   "metadata": {},
   "outputs": [],
   "source": []
  }
 ],
 "metadata": {
  "kernelspec": {
   "display_name": "Python 3",
   "language": "python",
   "name": "python3"
  },
  "language_info": {
   "codemirror_mode": {
    "name": "ipython",
    "version": 3
   },
   "file_extension": ".py",
   "mimetype": "text/x-python",
   "name": "python",
   "nbconvert_exporter": "python",
   "pygments_lexer": "ipython3",
   "version": "3.6.5"
  }
 },
 "nbformat": 4,
 "nbformat_minor": 2
}
